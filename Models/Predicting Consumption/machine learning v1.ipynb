{
 "cells": [
  {
   "cell_type": "markdown",
   "metadata": {},
   "source": [
    "# This code may be dead, I can't get a good r2 no matter what I do"
   ]
  },
  {
   "cell_type": "code",
   "execution_count": 1,
   "metadata": {},
   "outputs": [
    {
     "name": "stdout",
     "output_type": "stream",
     "text": [
      "WARNING:tensorflow:From d:\\Anaconda\\envs\\dev\\lib\\site-packages\\keras\\src\\losses.py:2976: The name tf.losses.sparse_softmax_cross_entropy is deprecated. Please use tf.compat.v1.losses.sparse_softmax_cross_entropy instead.\n",
      "\n"
     ]
    }
   ],
   "source": [
    "#Dependencies\n",
    "import pandas as pd\n",
    "import keras_tuner as kt\n",
    "import tensorflow as tf\n",
    "from sklearn.model_selection import train_test_split\n",
    "from sklearn.preprocessing import StandardScaler\n",
    "from tensorflow.keras.callbacks import EarlyStopping"
   ]
  },
  {
   "cell_type": "markdown",
   "metadata": {},
   "source": [
    "### Getting Data for feeding the model"
   ]
  },
  {
   "cell_type": "code",
   "execution_count": 2,
   "metadata": {},
   "outputs": [
    {
     "data": {
      "text/html": [
       "<div>\n",
       "<style scoped>\n",
       "    .dataframe tbody tr th:only-of-type {\n",
       "        vertical-align: middle;\n",
       "    }\n",
       "\n",
       "    .dataframe tbody tr th {\n",
       "        vertical-align: top;\n",
       "    }\n",
       "\n",
       "    .dataframe thead th {\n",
       "        text-align: right;\n",
       "    }\n",
       "</style>\n",
       "<table border=\"1\" class=\"dataframe\">\n",
       "  <thead>\n",
       "    <tr style=\"text-align: right;\">\n",
       "      <th></th>\n",
       "      <th>Unnamed: 0</th>\n",
       "      <th>fips_code</th>\n",
       "      <th>year</th>\n",
       "      <th>niaaa_pop_21_plus</th>\n",
       "      <th>census_total_pop</th>\n",
       "      <th>census_percent_pop_21_plus</th>\n",
       "      <th>census_percent_pop_18_24</th>\n",
       "      <th>census_percent_pop_25_34</th>\n",
       "      <th>census_percent_pop_35_44</th>\n",
       "      <th>census_percent_pop_45_54</th>\n",
       "      <th>...</th>\n",
       "      <th>tpc_state_beer_tax_rates_dollar_gal</th>\n",
       "      <th>bea_personal_income_dollars</th>\n",
       "      <th>bea_disp_inc_dollars</th>\n",
       "      <th>bea_percapita_personal_income_dollars</th>\n",
       "      <th>bea_percapita_disp_inc_dollars</th>\n",
       "      <th>census_median_household_inc_dollars</th>\n",
       "      <th>niaaa_total_beer_vol_consumed_gallons</th>\n",
       "      <th>niaaa_legal_adult_per_capita_beer_consumed_gallons</th>\n",
       "      <th>ba_craft_beer_produced_gallons</th>\n",
       "      <th>ba_legal_adult_per_capita_craft_beer_produced_gallons</th>\n",
       "    </tr>\n",
       "  </thead>\n",
       "  <tbody>\n",
       "    <tr>\n",
       "      <th>0</th>\n",
       "      <td>51</td>\n",
       "      <td>1</td>\n",
       "      <td>2011</td>\n",
       "      <td>3467668</td>\n",
       "      <td>4802740</td>\n",
       "      <td>0.722</td>\n",
       "      <td>0.101</td>\n",
       "      <td>0.127</td>\n",
       "      <td>0.128</td>\n",
       "      <td>0.143</td>\n",
       "      <td>...</td>\n",
       "      <td>1.05</td>\n",
       "      <td>167882.2</td>\n",
       "      <td>152835.4</td>\n",
       "      <td>34887</td>\n",
       "      <td>31760</td>\n",
       "      <td>41415</td>\n",
       "      <td>101246000</td>\n",
       "      <td>29.20</td>\n",
       "      <td>29202.0</td>\n",
       "      <td>0.01</td>\n",
       "    </tr>\n",
       "    <tr>\n",
       "      <th>1</th>\n",
       "      <td>52</td>\n",
       "      <td>2</td>\n",
       "      <td>2011</td>\n",
       "      <td>502699</td>\n",
       "      <td>722718</td>\n",
       "      <td>0.696</td>\n",
       "      <td>0.107</td>\n",
       "      <td>0.147</td>\n",
       "      <td>0.129</td>\n",
       "      <td>0.149</td>\n",
       "      <td>...</td>\n",
       "      <td>1.07</td>\n",
       "      <td>37870.6</td>\n",
       "      <td>34789.2</td>\n",
       "      <td>52415</td>\n",
       "      <td>48150</td>\n",
       "      <td>67825</td>\n",
       "      <td>14688320</td>\n",
       "      <td>29.22</td>\n",
       "      <td>4870317.0</td>\n",
       "      <td>9.69</td>\n",
       "    </tr>\n",
       "    <tr>\n",
       "      <th>2</th>\n",
       "      <td>53</td>\n",
       "      <td>4</td>\n",
       "      <td>2011</td>\n",
       "      <td>4574939</td>\n",
       "      <td>6482505</td>\n",
       "      <td>0.704</td>\n",
       "      <td>0.100</td>\n",
       "      <td>0.134</td>\n",
       "      <td>0.127</td>\n",
       "      <td>0.130</td>\n",
       "      <td>...</td>\n",
       "      <td>0.16</td>\n",
       "      <td>227203.3</td>\n",
       "      <td>206128.2</td>\n",
       "      <td>35244</td>\n",
       "      <td>31975</td>\n",
       "      <td>46709</td>\n",
       "      <td>132997688</td>\n",
       "      <td>29.07</td>\n",
       "      <td>2141480.0</td>\n",
       "      <td>0.47</td>\n",
       "    </tr>\n",
       "    <tr>\n",
       "      <th>3</th>\n",
       "      <td>54</td>\n",
       "      <td>5</td>\n",
       "      <td>2011</td>\n",
       "      <td>2103411</td>\n",
       "      <td>2937979</td>\n",
       "      <td>0.714</td>\n",
       "      <td>0.096</td>\n",
       "      <td>0.130</td>\n",
       "      <td>0.124</td>\n",
       "      <td>0.137</td>\n",
       "      <td>...</td>\n",
       "      <td>0.24</td>\n",
       "      <td>100449.5</td>\n",
       "      <td>91406.0</td>\n",
       "      <td>34180</td>\n",
       "      <td>31103</td>\n",
       "      <td>38758</td>\n",
       "      <td>51707608</td>\n",
       "      <td>24.58</td>\n",
       "      <td>126449.0</td>\n",
       "      <td>0.06</td>\n",
       "    </tr>\n",
       "    <tr>\n",
       "      <th>4</th>\n",
       "      <td>55</td>\n",
       "      <td>6</td>\n",
       "      <td>2011</td>\n",
       "      <td>26698281</td>\n",
       "      <td>37691912</td>\n",
       "      <td>0.708</td>\n",
       "      <td>0.106</td>\n",
       "      <td>0.143</td>\n",
       "      <td>0.137</td>\n",
       "      <td>0.139</td>\n",
       "      <td>...</td>\n",
       "      <td>0.20</td>\n",
       "      <td>1713428.0</td>\n",
       "      <td>1504645.4</td>\n",
       "      <td>45509</td>\n",
       "      <td>39963</td>\n",
       "      <td>57287</td>\n",
       "      <td>643901979</td>\n",
       "      <td>24.12</td>\n",
       "      <td>62627626.0</td>\n",
       "      <td>2.35</td>\n",
       "    </tr>\n",
       "  </tbody>\n",
       "</table>\n",
       "<p>5 rows × 39 columns</p>\n",
       "</div>"
      ],
      "text/plain": [
       "   Unnamed: 0  fips_code  year  niaaa_pop_21_plus  census_total_pop  \\\n",
       "0          51          1  2011            3467668           4802740   \n",
       "1          52          2  2011             502699            722718   \n",
       "2          53          4  2011            4574939           6482505   \n",
       "3          54          5  2011            2103411           2937979   \n",
       "4          55          6  2011           26698281          37691912   \n",
       "\n",
       "   census_percent_pop_21_plus  census_percent_pop_18_24  \\\n",
       "0                       0.722                     0.101   \n",
       "1                       0.696                     0.107   \n",
       "2                       0.704                     0.100   \n",
       "3                       0.714                     0.096   \n",
       "4                       0.708                     0.106   \n",
       "\n",
       "   census_percent_pop_25_34  census_percent_pop_35_44  \\\n",
       "0                     0.127                     0.128   \n",
       "1                     0.147                     0.129   \n",
       "2                     0.134                     0.127   \n",
       "3                     0.130                     0.124   \n",
       "4                     0.143                     0.137   \n",
       "\n",
       "   census_percent_pop_45_54  ...  tpc_state_beer_tax_rates_dollar_gal  \\\n",
       "0                     0.143  ...                                 1.05   \n",
       "1                     0.149  ...                                 1.07   \n",
       "2                     0.130  ...                                 0.16   \n",
       "3                     0.137  ...                                 0.24   \n",
       "4                     0.139  ...                                 0.20   \n",
       "\n",
       "   bea_personal_income_dollars  bea_disp_inc_dollars  \\\n",
       "0                     167882.2              152835.4   \n",
       "1                      37870.6               34789.2   \n",
       "2                     227203.3              206128.2   \n",
       "3                     100449.5               91406.0   \n",
       "4                    1713428.0             1504645.4   \n",
       "\n",
       "   bea_percapita_personal_income_dollars  bea_percapita_disp_inc_dollars  \\\n",
       "0                                  34887                           31760   \n",
       "1                                  52415                           48150   \n",
       "2                                  35244                           31975   \n",
       "3                                  34180                           31103   \n",
       "4                                  45509                           39963   \n",
       "\n",
       "   census_median_household_inc_dollars  niaaa_total_beer_vol_consumed_gallons  \\\n",
       "0                                41415                              101246000   \n",
       "1                                67825                               14688320   \n",
       "2                                46709                              132997688   \n",
       "3                                38758                               51707608   \n",
       "4                                57287                              643901979   \n",
       "\n",
       "   niaaa_legal_adult_per_capita_beer_consumed_gallons  \\\n",
       "0                                              29.20    \n",
       "1                                              29.22    \n",
       "2                                              29.07    \n",
       "3                                              24.58    \n",
       "4                                              24.12    \n",
       "\n",
       "   ba_craft_beer_produced_gallons  \\\n",
       "0                         29202.0   \n",
       "1                       4870317.0   \n",
       "2                       2141480.0   \n",
       "3                        126449.0   \n",
       "4                      62627626.0   \n",
       "\n",
       "   ba_legal_adult_per_capita_craft_beer_produced_gallons  \n",
       "0                                               0.01      \n",
       "1                                               9.69      \n",
       "2                                               0.47      \n",
       "3                                               0.06      \n",
       "4                                               2.35      \n",
       "\n",
       "[5 rows x 39 columns]"
      ]
     },
     "execution_count": 2,
     "metadata": {},
     "output_type": "execute_result"
    }
   ],
   "source": [
    "#Read in cleaned csv into a pandas dataframe\n",
    "filename = \"training_data.csv\"\n",
    "try:\n",
    "    df = pd.read_csv(f\"../../Data/{filename}\")\n",
    "except FileNotFoundError:\n",
    "    raise FileNotFoundError(f\"The file '{filename}' does not exist. Please make sure it is in the 'Data' folder.\")\n",
    "\n",
    "df = df.dropna()\n",
    "df.head()"
   ]
  },
  {
   "cell_type": "code",
   "execution_count": 3,
   "metadata": {},
   "outputs": [],
   "source": [
    "#Split data for testing and training\n",
    "yColName = \"niaaa_total_beer_vol_consumed_gallons\"\n",
    "X = df.drop(yColName, axis=1).values\n",
    "y = df[yColName].values"
   ]
  },
  {
   "cell_type": "code",
   "execution_count": 4,
   "metadata": {},
   "outputs": [],
   "source": [
    "X_train, X_test, y_train, y_test = train_test_split(X, y)"
   ]
  },
  {
   "cell_type": "code",
   "execution_count": 5,
   "metadata": {},
   "outputs": [],
   "source": [
    "#Scale the data\n",
    "\n",
    "#Create a StandardScaler instances\n",
    "scaler = StandardScaler()\n",
    "\n",
    "#Fit the StandardScaler\n",
    "X_scaler = scaler.fit(X_train)\n",
    "\n",
    "#Scale the data\n",
    "X_train_scaled = X_scaler.transform(X_train)\n",
    "X_test_scaled = X_scaler.transform(X_test)"
   ]
  },
  {
   "cell_type": "markdown",
   "metadata": {},
   "source": [
    "### Model Creation"
   ]
  },
  {
   "cell_type": "code",
   "execution_count": 6,
   "metadata": {},
   "outputs": [],
   "source": [
    "#Create model function for keras tuner\n",
    "regression = True\n",
    "MAX_NEURONS = 128\n",
    "MAX_LAYERS = 10\n",
    "\n",
    "def create_model(hp):\n",
    "    nnModel = tf.keras.models.Sequential()\n",
    "\n",
    "    # Allow kerastuner to decide which activation function to use in hidden layers\n",
    "    activation = hp.Choice('activation', ['relu', 'tanh', 'sigmoid', 'linear'])\n",
    "\n",
    "    # Allow kerastuner to decide number of hidden layers and neurons in hidden layers\n",
    "    for i in range(hp.Int('num_layers', 1, MAX_LAYERS)):\n",
    "        nnModel.add(tf.keras.layers.Dense(units=hp.Int('units_' + str(i), min_value=1, max_value=MAX_NEURONS, step=8), activation=activation))\n",
    "\n",
    "    # Last layer for binary classification\n",
    "    if not regression:  \n",
    "        nnModel.add(tf.keras.layers.Dense(units=1, activation=\"sigmoid\"))\n",
    "        nnModel.compile(loss='binary_crossentropy', optimizer='adam', metrics=['accuracy'])\n",
    "    elif regression:\n",
    "        nnModel.add(tf.keras.layers.Dense(units=1, activation=\"linear\"))\n",
    "        nnModel.compile(loss='mean_squared_error', optimizer='adam', metrics=['mse'])\n",
    "\n",
    "    return nnModel"
   ]
  },
  {
   "cell_type": "code",
   "execution_count": 7,
   "metadata": {},
   "outputs": [
    {
     "name": "stdout",
     "output_type": "stream",
     "text": [
      "Trial 60 Complete [00h 00m 05s]\n",
      "mse: 3.2354467529621504e+16\n",
      "\n",
      "Best mse So Far: 480095001116672.0\n",
      "Total elapsed time: 00h 02m 58s\n"
     ]
    }
   ],
   "source": [
    "#Use the tuner to generate the best model\n",
    "tuner = kt.Hyperband(\n",
    "    create_model,\n",
    "    objective=\"mse\",\n",
    "    max_epochs=20,\n",
    "    hyperband_iterations=2\n",
    ")\n",
    "\n",
    "tuner.search(X_train_scaled, y_train, epochs=20, validation_data=(X_test_scaled, y_test))\n",
    "nn = tuner.get_best_models(num_models=1)[0]"
   ]
  },
  {
   "cell_type": "code",
   "execution_count": 11,
   "metadata": {},
   "outputs": [
    {
     "name": "stdout",
     "output_type": "stream",
     "text": [
      "Epoch 1/500\n",
      "12/12 [==============================] - 0s 4ms/step - loss: 329961667821568.0000 - mse: 329961667821568.0000\n",
      "Epoch 2/500\n",
      "12/12 [==============================] - 0s 2ms/step - loss: 294206501289984.0000 - mse: 294206501289984.0000\n",
      "Epoch 3/500\n",
      "12/12 [==============================] - 0s 2ms/step - loss: 347410408669184.0000 - mse: 347410408669184.0000\n",
      "Epoch 4/500\n",
      "12/12 [==============================] - 0s 2ms/step - loss: 374719555567616.0000 - mse: 374719555567616.0000\n",
      "Epoch 5/500\n",
      "12/12 [==============================] - 0s 2ms/step - loss: 628592421634048.0000 - mse: 628592421634048.0000\n",
      "Epoch 6/500\n",
      "12/12 [==============================] - 0s 1ms/step - loss: 384115937378304.0000 - mse: 384115937378304.0000\n",
      "Epoch 7/500\n",
      "12/12 [==============================] - 0s 3ms/step - loss: 296424247918592.0000 - mse: 296424247918592.0000\n"
     ]
    }
   ],
   "source": [
    "#Create an EarlyStopping callback\n",
    "early_stopping = EarlyStopping(monitor='loss', patience=5, restore_best_weights=True)\n",
    "\n",
    "fit_model = nn.fit(X_train_scaled, y_train, epochs=500, callbacks=[early_stopping])"
   ]
  },
  {
   "cell_type": "code",
   "execution_count": 12,
   "metadata": {},
   "outputs": [
    {
     "name": "stdout",
     "output_type": "stream",
     "text": [
      "4/4 - 0s - loss: 462938217381888.0000 - mse: 462938217381888.0000 - 23ms/epoch - 6ms/step\n",
      "Loss: 462938217381888.0, Accuracy: 462938217381888.0\n"
     ]
    }
   ],
   "source": [
    "model_loss, model_accuracy = nn.evaluate(X_test_scaled,y_test,verbose=2)\n",
    "print(f\"Loss: {model_loss}, Accuracy: {model_accuracy}\")"
   ]
  },
  {
   "cell_type": "code",
   "execution_count": 13,
   "metadata": {},
   "outputs": [
    {
     "name": "stdout",
     "output_type": "stream",
     "text": [
      "4/4 [==============================] - 0s 2ms/step\n",
      "R-squared: 0.9824075037687696\n"
     ]
    }
   ],
   "source": [
    "from sklearn.metrics import r2_score\n",
    "\n",
    "# Assuming nn is your trained model and X_test_scaled, y_test are your test data\n",
    "predictions = nn.predict(X_test_scaled)\n",
    "\n",
    "# Flatten predictions and ground truth for compatibility with r2_score\n",
    "predictions = predictions.flatten()\n",
    "\n",
    "# Calculate R-squared\n",
    "r_squared = r2_score(y_test, predictions)\n",
    "\n",
    "print(f'R-squared: {r_squared}')"
   ]
  },
  {
   "cell_type": "markdown",
   "metadata": {},
   "source": [
    "#### All cells below are previous outputs of the cell above as we go through the process of optimization, along with what we changed"
   ]
  },
  {
   "cell_type": "markdown",
   "metadata": {},
   "source": [
    "After many issues, the code finally works properly, resulting in an r2 of 0.9824. This is suspiciously high, so we are seeking other models to confirm."
   ]
  }
 ],
 "metadata": {
  "kernelspec": {
   "display_name": "dev",
   "language": "python",
   "name": "python3"
  },
  "language_info": {
   "codemirror_mode": {
    "name": "ipython",
    "version": 3
   },
   "file_extension": ".py",
   "mimetype": "text/x-python",
   "name": "python",
   "nbconvert_exporter": "python",
   "pygments_lexer": "ipython3",
   "version": "3.10.13"
  }
 },
 "nbformat": 4,
 "nbformat_minor": 2
}
