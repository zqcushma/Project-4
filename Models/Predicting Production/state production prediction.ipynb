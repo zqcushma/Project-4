{
 "cells": [
  {
   "cell_type": "code",
   "execution_count": null,
   "metadata": {},
   "outputs": [],
   "source": [
    "import pandas as pd\n",
    "from sklearn.model_selection import train_test_split\n",
    "from sklearn.ensemble import GradientBoostingRegressor\n",
    "from sklearn.metrics import r2_score, mean_absolute_error, mean_squared_error\n",
    "from sklearn.preprocessing import OneHotEncoder\n",
    "from sklearn.compose import ColumnTransformer\n",
    "from sklearn.pipeline import Pipeline"
   ]
  },
  {
   "cell_type": "code",
   "execution_count": null,
   "metadata": {},
   "outputs": [],
   "source": [
    "# Load the processed dataset\n",
    "data = pd.read_csv('../../Data/training_data.csv')\n",
    "\n",
    "# Ensure the feature selection keeps the data in DataFrame format\n",
    "X = data[['year', 'census_total_pop', 'census_percent_employed', 'fips_code']]  # DataFrame format\n",
    "y = data['ba_craft_beer_produced_gallons']\n"
   ]
  },
  {
   "cell_type": "code",
   "execution_count": 9,
   "metadata": {},
   "outputs": [],
   "source": [
    "# Encoding categorical data and creating a pipeline\n",
    "categorical_features = ['fips_code']\n",
    "categorical_transformer = OneHotEncoder(handle_unknown='ignore')\n",
    "\n",
    "preprocessor = ColumnTransformer(\n",
    "    transformers=[\n",
    "        ('cat', categorical_transformer, categorical_features)\n",
    "    ], remainder='passthrough')\n",
    "\n",
    "model = Pipeline(steps=[\n",
    "    ('preprocessor', preprocessor),\n",
    "    ('regressor', GradientBoostingRegressor(n_estimators=100, random_state=42))\n",
    "])\n"
   ]
  },
  {
   "cell_type": "code",
   "execution_count": 10,
   "metadata": {},
   "outputs": [],
   "source": [
    "# Split the data into training and testing sets, making sure X remains a DataFrame\n",
    "X_train, X_test, y_train, y_test = train_test_split(X, y, test_size=0.2, random_state=42)"
   ]
  },
  {
   "cell_type": "code",
   "execution_count": 11,
   "metadata": {},
   "outputs": [
    {
     "name": "stdout",
     "output_type": "stream",
     "text": [
      "R^2: 0.9718319406664042\n",
      "MAE: 2216005.4056879594\n",
      "MSE: 10154734981786.254\n"
     ]
    }
   ],
   "source": [
    "# Train the model using the pipeline\n",
    "model.fit(X_train, y_train)\n",
    "\n",
    "# Predict and evaluate\n",
    "y_pred = model.predict(X_test)\n",
    "r2 = r2_score(y_test, y_pred)\n",
    "mae = mean_absolute_error(y_test, y_pred)\n",
    "mse = mean_squared_error(y_test, y_pred)\n",
    "\n",
    "print(f'R^2: {r2}')\n",
    "print(f'MAE: {mae}')\n",
    "print(f'MSE: {mse}')"
   ]
  },
  {
   "cell_type": "code",
   "execution_count": 13,
   "metadata": {},
   "outputs": [
    {
     "name": "stdout",
     "output_type": "stream",
     "text": [
      "Predicted craft beer production for 6 in 2025: 106835228.36956754 gallons\n"
     ]
    }
   ],
   "source": [
    "# Specify the state and year for prediction\n",
    "state_to_predict = 6  # Change to the state you want to predict\n",
    "year_to_predict = 2025  # Change to the year you want to predict\n",
    "\n",
    "# Find the latest total population for the specific state from the data\n",
    "latest_population = data[(data['fips_code'] == state_to_predict) & (data['year'] == 2021)]['census_total_pop'].values[0]\n",
    "\n",
    "# Assuming you have a method to forecast or obtain the 'census_percent_employed' for the state in 2025\n",
    "percent_employed_forecast = 60  # Example placeholder value, replace with your forecast\n",
    "\n",
    "# Creating the DataFrame for prediction with the fetched population data\n",
    "example_state_data = pd.DataFrame({\n",
    "    'year': [year_to_predict],\n",
    "    'census_total_pop': [latest_population],\n",
    "    'census_percent_employed': [percent_employed_forecast],\n",
    "    'fips_code': [state_to_predict]\n",
    "})\n",
    "\n",
    "# Use the model to predict for the given state and year\n",
    "prediction_2025 = model.predict(example_state_data)\n",
    "print(f'Predicted craft beer production for {state_to_predict} in {year_to_predict}: {prediction_2025[0]} gallons')"
   ]
  }
 ],
 "metadata": {
  "kernelspec": {
   "display_name": "dev",
   "language": "python",
   "name": "python3"
  },
  "language_info": {
   "codemirror_mode": {
    "name": "ipython",
    "version": 3
   },
   "file_extension": ".py",
   "mimetype": "text/x-python",
   "name": "python",
   "nbconvert_exporter": "python",
   "pygments_lexer": "ipython3",
   "version": "3.10.13"
  }
 },
 "nbformat": 4,
 "nbformat_minor": 2
}
