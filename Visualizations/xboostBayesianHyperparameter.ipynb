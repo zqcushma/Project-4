{
 "cells": [
  {
   "cell_type": "code",
   "execution_count": 1,
   "metadata": {},
   "outputs": [],
   "source": [
    "import pandas as pd\n",
    "import xgboost as xgb\n",
    "from sklearn.model_selection import train_test_split\n",
    "from sklearn.metrics import mean_squared_error, r2_score\n",
    "from sklearn.preprocessing import StandardScaler, MinMaxScaler\n",
    "from sklearn.compose import ColumnTransformer\n",
    "from sklearn.pipeline import Pipeline\n",
    "import os\n",
    "import optuna\n",
    "import shap"
   ]
  },
  {
   "cell_type": "code",
   "execution_count": 4,
   "metadata": {},
   "outputs": [
    {
     "name": "stdout",
     "output_type": "stream",
     "text": [
      "   fips_code state_id  state_name  year  niaaa_pop_21_plus  census_total_pop  \\\n",
      "0          1       AL     Alabama  2010            3439923           4785298   \n",
      "1          2       AK      Alaska  2010             494781            713985   \n",
      "2          4       AZ     Arizona  2010            4496526           6413737   \n",
      "3          5       AR    Arkansas  2010            2082760           2921606   \n",
      "4          6       CA  California  2010           26311028          37349363   \n",
      "\n",
      "   census_percent_pop_21_plus  census_percent_pop_18_24  \\\n",
      "0                       0.716                     0.102   \n",
      "1                       0.692                     0.105   \n",
      "2                       0.702                     0.099   \n",
      "3                       0.710                     0.100   \n",
      "4                       0.704                     0.106   \n",
      "\n",
      "   census_percent_pop_25_34  census_percent_pop_35_44  ...  \\\n",
      "0                     0.126                     0.130  ...   \n",
      "1                     0.145                     0.131  ...   \n",
      "2                     0.134                     0.128  ...   \n",
      "3                     0.126                     0.127  ...   \n",
      "4                     0.143                     0.139  ...   \n",
      "\n",
      "   tpc_state_beer_tax_rates_dollar_gal  bea_personal_income_dollars  \\\n",
      "0                                 1.05                     162068.8   \n",
      "1                                 1.07                      35374.3   \n",
      "2                                 0.16                     216223.6   \n",
      "3                                 0.24                      94127.0   \n",
      "4                                 0.20                    1609997.5   \n",
      "\n",
      "   bea_disp_inc_dollars  bea_percapita_personal_income_dollars  \\\n",
      "0              148862.1                                  33849   \n",
      "1               32703.9                                  49543   \n",
      "2              198815.2                                  33774   \n",
      "3               86387.0                                  32218   \n",
      "4             1431825.6                                  43138   \n",
      "\n",
      "   bea_percapita_disp_inc_dollars  census_median_household_inc_dollars  \\\n",
      "0                           31091                                40474   \n",
      "1                           45803                                64576   \n",
      "2                           31055                                46789   \n",
      "3                           29569                                38307   \n",
      "4                           38364                                57708   \n",
      "\n",
      "   niaaa_total_beer_vol_consumed_gallons  \\\n",
      "0                              101835000   \n",
      "1                               15476350   \n",
      "2                              140015325   \n",
      "3                               53429000   \n",
      "4                              651673303   \n",
      "\n",
      "   niaaa_legal_adult_per_capita_beer_consumed_gallons  \\\n",
      "0                                              29.60    \n",
      "1                                              31.28    \n",
      "2                                              31.14    \n",
      "3                                              25.65    \n",
      "4                                              24.77    \n",
      "\n",
      "   ba_craft_beer_produced_gallons  \\\n",
      "0                             NaN   \n",
      "1                             NaN   \n",
      "2                             NaN   \n",
      "3                             NaN   \n",
      "4                             NaN   \n",
      "\n",
      "   ba_legal_adult_per_capita_craft_beer_produced_gallons  \n",
      "0                                                NaN      \n",
      "1                                                NaN      \n",
      "2                                                NaN      \n",
      "3                                                NaN      \n",
      "4                                                NaN      \n",
      "\n",
      "[5 rows x 40 columns]\n"
     ]
    }
   ],
   "source": [
    "# Construct the path to the CSV file\n",
    "csv_file_path = \"../Data/proj_4_feat_target_var_set.csv\"\n",
    "\n",
    "# Read the CSV file\n",
    "df = pd.read_csv(csv_file_path)\n",
    "\n",
    "# Check the data\n",
    "print(df.head())"
   ]
  },
  {
   "cell_type": "code",
   "execution_count": 5,
   "metadata": {},
   "outputs": [
    {
     "ename": "KeyError",
     "evalue": "\"['census_percent_pop_in_poverty_est', 'high_tourist_border_sales'] not in index\"",
     "output_type": "error",
     "traceback": [
      "\u001b[1;31m---------------------------------------------------------------------------\u001b[0m",
      "\u001b[1;31mKeyError\u001b[0m                                  Traceback (most recent call last)",
      "Cell \u001b[1;32mIn[5], line 12\u001b[0m\n\u001b[0;32m      9\u001b[0m binary_features \u001b[38;5;241m=\u001b[39m [\u001b[38;5;124m'\u001b[39m\u001b[38;5;124mhigh_tourist_border_sales\u001b[39m\u001b[38;5;124m'\u001b[39m]\n\u001b[0;32m     10\u001b[0m target_column \u001b[38;5;241m=\u001b[39m \u001b[38;5;124m'\u001b[39m\u001b[38;5;124mniaaa_legal_adult_per_capita_beer_consumed_gallons\u001b[39m\u001b[38;5;124m'\u001b[39m\n\u001b[1;32m---> 12\u001b[0m X \u001b[38;5;241m=\u001b[39m \u001b[43mdf\u001b[49m\u001b[43m[\u001b[49m\u001b[43mnumerical_features\u001b[49m\u001b[43m \u001b[49m\u001b[38;5;241;43m+\u001b[39;49m\u001b[43m \u001b[49m\u001b[43mpercentage_features\u001b[49m\u001b[43m \u001b[49m\u001b[38;5;241;43m+\u001b[39;49m\u001b[43m \u001b[49m\u001b[43mbinary_features\u001b[49m\u001b[43m]\u001b[49m\n\u001b[0;32m     13\u001b[0m y \u001b[38;5;241m=\u001b[39m df[target_column]\n",
      "File \u001b[1;32md:\\Anaconda\\envs\\dev\\lib\\site-packages\\pandas\\core\\frame.py:3767\u001b[0m, in \u001b[0;36mDataFrame.__getitem__\u001b[1;34m(self, key)\u001b[0m\n\u001b[0;32m   3765\u001b[0m     \u001b[38;5;28;01mif\u001b[39;00m is_iterator(key):\n\u001b[0;32m   3766\u001b[0m         key \u001b[38;5;241m=\u001b[39m \u001b[38;5;28mlist\u001b[39m(key)\n\u001b[1;32m-> 3767\u001b[0m     indexer \u001b[38;5;241m=\u001b[39m \u001b[38;5;28;43mself\u001b[39;49m\u001b[38;5;241;43m.\u001b[39;49m\u001b[43mcolumns\u001b[49m\u001b[38;5;241;43m.\u001b[39;49m\u001b[43m_get_indexer_strict\u001b[49m\u001b[43m(\u001b[49m\u001b[43mkey\u001b[49m\u001b[43m,\u001b[49m\u001b[43m \u001b[49m\u001b[38;5;124;43m\"\u001b[39;49m\u001b[38;5;124;43mcolumns\u001b[39;49m\u001b[38;5;124;43m\"\u001b[39;49m\u001b[43m)\u001b[49m[\u001b[38;5;241m1\u001b[39m]\n\u001b[0;32m   3769\u001b[0m \u001b[38;5;66;03m# take() does not accept boolean indexers\u001b[39;00m\n\u001b[0;32m   3770\u001b[0m \u001b[38;5;28;01mif\u001b[39;00m \u001b[38;5;28mgetattr\u001b[39m(indexer, \u001b[38;5;124m\"\u001b[39m\u001b[38;5;124mdtype\u001b[39m\u001b[38;5;124m\"\u001b[39m, \u001b[38;5;28;01mNone\u001b[39;00m) \u001b[38;5;241m==\u001b[39m \u001b[38;5;28mbool\u001b[39m:\n",
      "File \u001b[1;32md:\\Anaconda\\envs\\dev\\lib\\site-packages\\pandas\\core\\indexes\\base.py:5877\u001b[0m, in \u001b[0;36mIndex._get_indexer_strict\u001b[1;34m(self, key, axis_name)\u001b[0m\n\u001b[0;32m   5874\u001b[0m \u001b[38;5;28;01melse\u001b[39;00m:\n\u001b[0;32m   5875\u001b[0m     keyarr, indexer, new_indexer \u001b[38;5;241m=\u001b[39m \u001b[38;5;28mself\u001b[39m\u001b[38;5;241m.\u001b[39m_reindex_non_unique(keyarr)\n\u001b[1;32m-> 5877\u001b[0m \u001b[38;5;28;43mself\u001b[39;49m\u001b[38;5;241;43m.\u001b[39;49m\u001b[43m_raise_if_missing\u001b[49m\u001b[43m(\u001b[49m\u001b[43mkeyarr\u001b[49m\u001b[43m,\u001b[49m\u001b[43m \u001b[49m\u001b[43mindexer\u001b[49m\u001b[43m,\u001b[49m\u001b[43m \u001b[49m\u001b[43maxis_name\u001b[49m\u001b[43m)\u001b[49m\n\u001b[0;32m   5879\u001b[0m keyarr \u001b[38;5;241m=\u001b[39m \u001b[38;5;28mself\u001b[39m\u001b[38;5;241m.\u001b[39mtake(indexer)\n\u001b[0;32m   5880\u001b[0m \u001b[38;5;28;01mif\u001b[39;00m \u001b[38;5;28misinstance\u001b[39m(key, Index):\n\u001b[0;32m   5881\u001b[0m     \u001b[38;5;66;03m# GH 42790 - Preserve name from an Index\u001b[39;00m\n",
      "File \u001b[1;32md:\\Anaconda\\envs\\dev\\lib\\site-packages\\pandas\\core\\indexes\\base.py:5941\u001b[0m, in \u001b[0;36mIndex._raise_if_missing\u001b[1;34m(self, key, indexer, axis_name)\u001b[0m\n\u001b[0;32m   5938\u001b[0m     \u001b[38;5;28;01mraise\u001b[39;00m \u001b[38;5;167;01mKeyError\u001b[39;00m(\u001b[38;5;124mf\u001b[39m\u001b[38;5;124m\"\u001b[39m\u001b[38;5;124mNone of [\u001b[39m\u001b[38;5;132;01m{\u001b[39;00mkey\u001b[38;5;132;01m}\u001b[39;00m\u001b[38;5;124m] are in the [\u001b[39m\u001b[38;5;132;01m{\u001b[39;00maxis_name\u001b[38;5;132;01m}\u001b[39;00m\u001b[38;5;124m]\u001b[39m\u001b[38;5;124m\"\u001b[39m)\n\u001b[0;32m   5940\u001b[0m not_found \u001b[38;5;241m=\u001b[39m \u001b[38;5;28mlist\u001b[39m(ensure_index(key)[missing_mask\u001b[38;5;241m.\u001b[39mnonzero()[\u001b[38;5;241m0\u001b[39m]]\u001b[38;5;241m.\u001b[39munique())\n\u001b[1;32m-> 5941\u001b[0m \u001b[38;5;28;01mraise\u001b[39;00m \u001b[38;5;167;01mKeyError\u001b[39;00m(\u001b[38;5;124mf\u001b[39m\u001b[38;5;124m\"\u001b[39m\u001b[38;5;132;01m{\u001b[39;00mnot_found\u001b[38;5;132;01m}\u001b[39;00m\u001b[38;5;124m not in index\u001b[39m\u001b[38;5;124m\"\u001b[39m)\n",
      "\u001b[1;31mKeyError\u001b[0m: \"['census_percent_pop_in_poverty_est', 'high_tourist_border_sales'] not in index\""
     ]
    }
   ],
   "source": [
    "# Specify feature names and types\n",
    "numerical_features = ['tpc_state_beer_tax_rates_dollar_gal','bea_personal_income_dollars','bea_disp_inc_dollars',\t'bea_percapita_personal_income_dollars', 'bea_percapita_disp_inc_dollars',\n",
    "                      'census_median_household_inc_dollars'] \n",
    "percentage_features = ['census_percent_pop_21_plus','census_percent_pop_18_24','census_percent_pop_25_34','census_percent_pop_35_44','census_percent_pop_45_54', \n",
    "                       'census_percent_pop_55_64', 'census_percent_pop_65_plus',\t'census_percent_pop_male', 'census_percent_pop_female', 'census_percent_pop_married', 'census_percent_pop_widowed',\t\n",
    "                       'census_percent_pop_divorced',\t'census_percent_pop_separated',\t'census_percent_pop_never_married',\t'ed_census_percent_pop_less_hs', 'ed_census_percent_pop_only_hs', \n",
    "                       'ed_census_percent_pop_some_college_or_assoc',\t'ed_percent_pop_college_grad_only',\t'ed_percent_pop_grad_prof_degree', 'census_percent_employed', 'census_percent_unemployed',\n",
    "                       'census_percent_armed_forces_employment', 'census_percent_not_in_labor_force',\t'brfss_drinking_culture_surrogate_metric_percent_binge', 'census_percent_pop_in_poverty_est']  # Replace with your percentage feature names\n",
    "binary_features = ['high_tourist_border_sales']\n",
    "target_column = 'niaaa_legal_adult_per_capita_beer_consumed_gallons'\n",
    "\n",
    "X = df[numerical_features + percentage_features + binary_features]\n",
    "y = df[target_column]"
   ]
  },
  {
   "cell_type": "code",
   "execution_count": null,
   "metadata": {},
   "outputs": [],
   "source": [
    "# Split the data into training and testing sets\n",
    "X_train, X_test, y_train, y_test = train_test_split(X, y, test_size=0.2, random_state=42)\n",
    "\n",
    "# Preprocessing steps\n",
    "preprocessor = ColumnTransformer(\n",
    "    transformers=[\n",
    "        ('num', StandardScaler(), numerical_features),\n",
    "        ('pct', MinMaxScaler(), percentage_features),\n",
    "        ('cat', 'passthrough', binary_features)\n",
    "    ],\n",
    "    remainder='passthrough'  # This ensures any unspecified columns are passed through\n",
    ")"
   ]
  },
  {
   "cell_type": "code",
   "execution_count": null,
   "metadata": {},
   "outputs": [],
   "source": [
    "# Define a function that creates a pipeline with given hyperparameters.\n",
    "def create_pipeline(n_estimators, learning_rate, max_depth, subsample, colsample_bytree):\n",
    "    pipeline = Pipeline([\n",
    "        ('preprocessor', preprocessor),\n",
    "        ('regressor', xgb.XGBRegressor(\n",
    "            objective='reg:squarederror',\n",
    "            n_estimators=n_estimators,\n",
    "            learning_rate=learning_rate,\n",
    "            max_depth=max_depth,\n",
    "            subsample=subsample,\n",
    "            colsample_bytree=colsample_bytree,\n",
    "            random_state=42))\n",
    "    ])\n",
    "    return pipeline\n",
    "\n",
    "def objective(trial):\n",
    "    n_estimators = trial.suggest_int('n_estimators', 100, 1000)\n",
    "    learning_rate = trial.suggest_float('learning_rate', 1e-4, 1e-1, log=True)\n",
    "    max_depth = trial.suggest_int('max_depth', 3, 9)\n",
    "    subsample = trial.suggest_float('subsample', 0.5, 1.0)\n",
    "    colsample_bytree = trial.suggest_float('colsample_bytree', 0.5, 1.0)\n",
    "    \n",
    "    pipeline = create_pipeline(n_estimators, learning_rate, max_depth, subsample, colsample_bytree)\n",
    "    pipeline.fit(X_train, y_train)\n",
    "    \n",
    "    y_pred = pipeline.predict(X_test)\n",
    "    mse = mean_squared_error(y_test, y_pred)\n",
    "    r2 = r2_score(y_test, y_pred)\n",
    "    \n",
    "    print(f\"Trial {trial.number}, MSE: {mse}, R2: {r2}\")\n",
    "    \n",
    "    return mse"
   ]
  },
  {
   "cell_type": "code",
   "execution_count": null,
   "metadata": {},
   "outputs": [],
   "source": [
    "study = optuna.create_study(direction='minimize')\n",
    "study.optimize(objective, n_trials=250)\n",
    "\n",
    "print(\"Best Parameters:\", study.best_params)\n",
    "print(\"Best Mean Squared Error:\", study.best_value)"
   ]
  },
  {
   "cell_type": "code",
   "execution_count": null,
   "metadata": {},
   "outputs": [],
   "source": [
    "# To apply the best parameters, use the create_pipeline function with the best parameters found\n",
    "best_pipeline = create_pipeline(**study.best_params)\n",
    "best_pipeline.fit(X_train, y_train)\n",
    "\n",
    "# Use the best pipeline to make predictions on the test set\n",
    "y_pred = best_pipeline.predict(X_test)\n",
    "\n",
    "# Calculate MSE and R2 score\n",
    "mse = mean_squared_error(y_test, y_pred)\n",
    "r2 = r2_score(y_test, y_pred)\n",
    "\n",
    "# Display the MSE and R2 score\n",
    "print(f\"Mean Squared Error (MSE) on Test Set: {mse}\")\n",
    "print(f\"R^2 Score on Test Set: {r2}\")"
   ]
  },
  {
   "cell_type": "code",
   "execution_count": null,
   "metadata": {},
   "outputs": [],
   "source": [
    "# Getting feature importances\n",
    "feature_importances = best_pipeline.named_steps['regressor'].feature_importances_\n",
    "transformed_feature_names = numerical_features + percentage_features + binary_features\n",
    "importances_df = pd.DataFrame({\n",
    "    'Feature': transformed_feature_names,\n",
    "    'Importance': feature_importances\n",
    "}).sort_values(by='Importance', ascending=False)\n",
    "\n",
    "print(\"Feature Importances:\")\n",
    "print(importances_df)"
   ]
  },
  {
   "cell_type": "code",
   "execution_count": null,
   "metadata": {},
   "outputs": [],
   "source": [
    "# Transform the datasets and create DataFrames with correct feature names\n",
    "transformed_feature_names = numerical_features + percentage_features + binary_features\n",
    "\n",
    "X_train_transformed = best_pipeline.named_steps['preprocessor'].transform(X_train)\n",
    "X_test_transformed = best_pipeline.named_steps['preprocessor'].transform(X_test)"
   ]
  },
  {
   "cell_type": "code",
   "execution_count": null,
   "metadata": {},
   "outputs": [],
   "source": [
    "# Convert the transformed data back to DataFrames to retain feature names\n",
    "X_train_transformed_df = pd.DataFrame(X_train_transformed, columns=transformed_feature_names)\n",
    "X_test_transformed_df = pd.DataFrame(X_test_transformed, columns=transformed_feature_names)\n",
    "\n",
    "# Initialize the SHAP Explainer with the model using the DataFrame (which includes feature names)\n",
    "explainer = shap.Explainer(best_pipeline.named_steps['regressor'], X_train_transformed_df)\n",
    "\n",
    "# Calculate SHAP values for the test set transformed DataFrame\n",
    "shap_values = explainer(X_test_transformed_df)\n",
    "\n",
    "# Summary plot with correct feature names\n",
    "shap.summary_plot(shap_values, X_test_transformed_df, feature_names=transformed_feature_names)"
   ]
  }
 ],
 "metadata": {
  "kernelspec": {
   "display_name": "dev",
   "language": "python",
   "name": "python3"
  },
  "language_info": {
   "codemirror_mode": {
    "name": "ipython",
    "version": 3
   },
   "file_extension": ".py",
   "mimetype": "text/x-python",
   "name": "python",
   "nbconvert_exporter": "python",
   "pygments_lexer": "ipython3",
   "version": "3.10.13"
  }
 },
 "nbformat": 4,
 "nbformat_minor": 2
}
