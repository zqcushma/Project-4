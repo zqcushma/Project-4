{
 "cells": [
  {
   "cell_type": "code",
   "execution_count": 1,
   "metadata": {},
   "outputs": [],
   "source": [
    "import pandas as pd"
   ]
  },
  {
   "cell_type": "code",
   "execution_count": 2,
   "metadata": {},
   "outputs": [
    {
     "data": {
      "text/html": [
       "<div>\n",
       "<style scoped>\n",
       "    .dataframe tbody tr th:only-of-type {\n",
       "        vertical-align: middle;\n",
       "    }\n",
       "\n",
       "    .dataframe tbody tr th {\n",
       "        vertical-align: top;\n",
       "    }\n",
       "\n",
       "    .dataframe thead th {\n",
       "        text-align: right;\n",
       "    }\n",
       "</style>\n",
       "<table border=\"1\" class=\"dataframe\">\n",
       "  <thead>\n",
       "    <tr style=\"text-align: right;\">\n",
       "      <th></th>\n",
       "      <th>fips_code</th>\n",
       "      <th>state_id</th>\n",
       "      <th>state_name</th>\n",
       "      <th>high_tourist_border_sales</th>\n",
       "      <th>year</th>\n",
       "      <th>niaaa_pop_21_plus</th>\n",
       "      <th>census_total_pop</th>\n",
       "      <th>census_total_pop_21_plus</th>\n",
       "      <th>census_percent_pop_21_plus</th>\n",
       "      <th>census_percent_pop_18_24</th>\n",
       "      <th>...</th>\n",
       "      <th>bea_personal_income_dollars</th>\n",
       "      <th>bea_disp_inc_dollars</th>\n",
       "      <th>bea_percapita_personal_income_dollars</th>\n",
       "      <th>bea_percapita_disp_inc_dollars</th>\n",
       "      <th>census_median_household_inc_dollars</th>\n",
       "      <th>census_percent_pop_in_poverty_est</th>\n",
       "      <th>niaaa_total_beer_vol_consumed_gallons</th>\n",
       "      <th>niaaa_legal_adult_per_capita_beer_consumed_gallons</th>\n",
       "      <th>ba_craft_beer_produced_gallons</th>\n",
       "      <th>ba_legal_adult_per_capita_craft_beer_produced_gallons</th>\n",
       "    </tr>\n",
       "  </thead>\n",
       "  <tbody>\n",
       "    <tr>\n",
       "      <th>0</th>\n",
       "      <td>1</td>\n",
       "      <td>AL</td>\n",
       "      <td>Alabama</td>\n",
       "      <td>0</td>\n",
       "      <td>2010</td>\n",
       "      <td>3439923</td>\n",
       "      <td>4785298</td>\n",
       "      <td>3426273</td>\n",
       "      <td>0.716</td>\n",
       "      <td>0.102</td>\n",
       "      <td>...</td>\n",
       "      <td>162068.8</td>\n",
       "      <td>148862.1</td>\n",
       "      <td>33849</td>\n",
       "      <td>31091</td>\n",
       "      <td>40474</td>\n",
       "      <td>0.172</td>\n",
       "      <td>101835000</td>\n",
       "      <td>29.60</td>\n",
       "      <td>NaN</td>\n",
       "      <td>NaN</td>\n",
       "    </tr>\n",
       "    <tr>\n",
       "      <th>1</th>\n",
       "      <td>2</td>\n",
       "      <td>AK</td>\n",
       "      <td>Alaska</td>\n",
       "      <td>1</td>\n",
       "      <td>2010</td>\n",
       "      <td>494781</td>\n",
       "      <td>713985</td>\n",
       "      <td>494078</td>\n",
       "      <td>0.692</td>\n",
       "      <td>0.105</td>\n",
       "      <td>...</td>\n",
       "      <td>35374.3</td>\n",
       "      <td>32703.9</td>\n",
       "      <td>49543</td>\n",
       "      <td>45803</td>\n",
       "      <td>64576</td>\n",
       "      <td>0.125</td>\n",
       "      <td>15476350</td>\n",
       "      <td>31.28</td>\n",
       "      <td>NaN</td>\n",
       "      <td>NaN</td>\n",
       "    </tr>\n",
       "    <tr>\n",
       "      <th>2</th>\n",
       "      <td>4</td>\n",
       "      <td>AZ</td>\n",
       "      <td>Arizona</td>\n",
       "      <td>0</td>\n",
       "      <td>2010</td>\n",
       "      <td>4496526</td>\n",
       "      <td>6413737</td>\n",
       "      <td>4502443</td>\n",
       "      <td>0.702</td>\n",
       "      <td>0.099</td>\n",
       "      <td>...</td>\n",
       "      <td>216223.6</td>\n",
       "      <td>198815.2</td>\n",
       "      <td>33774</td>\n",
       "      <td>31055</td>\n",
       "      <td>46789</td>\n",
       "      <td>0.188</td>\n",
       "      <td>140015325</td>\n",
       "      <td>31.14</td>\n",
       "      <td>NaN</td>\n",
       "      <td>NaN</td>\n",
       "    </tr>\n",
       "    <tr>\n",
       "      <th>3</th>\n",
       "      <td>5</td>\n",
       "      <td>AR</td>\n",
       "      <td>Arkansas</td>\n",
       "      <td>0</td>\n",
       "      <td>2010</td>\n",
       "      <td>2082760</td>\n",
       "      <td>2921606</td>\n",
       "      <td>2074340</td>\n",
       "      <td>0.710</td>\n",
       "      <td>0.100</td>\n",
       "      <td>...</td>\n",
       "      <td>94127.0</td>\n",
       "      <td>86387.0</td>\n",
       "      <td>32218</td>\n",
       "      <td>29569</td>\n",
       "      <td>38307</td>\n",
       "      <td>0.153</td>\n",
       "      <td>53429000</td>\n",
       "      <td>25.65</td>\n",
       "      <td>NaN</td>\n",
       "      <td>NaN</td>\n",
       "    </tr>\n",
       "    <tr>\n",
       "      <th>4</th>\n",
       "      <td>6</td>\n",
       "      <td>CA</td>\n",
       "      <td>California</td>\n",
       "      <td>0</td>\n",
       "      <td>2010</td>\n",
       "      <td>26311028</td>\n",
       "      <td>37349363</td>\n",
       "      <td>26293952</td>\n",
       "      <td>0.704</td>\n",
       "      <td>0.106</td>\n",
       "      <td>...</td>\n",
       "      <td>1609997.5</td>\n",
       "      <td>1431825.6</td>\n",
       "      <td>43138</td>\n",
       "      <td>38364</td>\n",
       "      <td>57708</td>\n",
       "      <td>0.163</td>\n",
       "      <td>651673303</td>\n",
       "      <td>24.77</td>\n",
       "      <td>NaN</td>\n",
       "      <td>NaN</td>\n",
       "    </tr>\n",
       "  </tbody>\n",
       "</table>\n",
       "<p>5 rows × 43 columns</p>\n",
       "</div>"
      ],
      "text/plain": [
       "   fips_code state_id  state_name  high_tourist_border_sales  year  \\\n",
       "0          1       AL     Alabama                          0  2010   \n",
       "1          2       AK      Alaska                          1  2010   \n",
       "2          4       AZ     Arizona                          0  2010   \n",
       "3          5       AR    Arkansas                          0  2010   \n",
       "4          6       CA  California                          0  2010   \n",
       "\n",
       "   niaaa_pop_21_plus  census_total_pop  census_total_pop_21_plus  \\\n",
       "0            3439923           4785298                   3426273   \n",
       "1             494781            713985                    494078   \n",
       "2            4496526           6413737                   4502443   \n",
       "3            2082760           2921606                   2074340   \n",
       "4           26311028          37349363                  26293952   \n",
       "\n",
       "   census_percent_pop_21_plus  census_percent_pop_18_24  ...  \\\n",
       "0                       0.716                     0.102  ...   \n",
       "1                       0.692                     0.105  ...   \n",
       "2                       0.702                     0.099  ...   \n",
       "3                       0.710                     0.100  ...   \n",
       "4                       0.704                     0.106  ...   \n",
       "\n",
       "   bea_personal_income_dollars  bea_disp_inc_dollars  \\\n",
       "0                     162068.8              148862.1   \n",
       "1                      35374.3               32703.9   \n",
       "2                     216223.6              198815.2   \n",
       "3                      94127.0               86387.0   \n",
       "4                    1609997.5             1431825.6   \n",
       "\n",
       "   bea_percapita_personal_income_dollars  bea_percapita_disp_inc_dollars  \\\n",
       "0                                  33849                           31091   \n",
       "1                                  49543                           45803   \n",
       "2                                  33774                           31055   \n",
       "3                                  32218                           29569   \n",
       "4                                  43138                           38364   \n",
       "\n",
       "   census_median_household_inc_dollars  census_percent_pop_in_poverty_est  \\\n",
       "0                                40474                              0.172   \n",
       "1                                64576                              0.125   \n",
       "2                                46789                              0.188   \n",
       "3                                38307                              0.153   \n",
       "4                                57708                              0.163   \n",
       "\n",
       "   niaaa_total_beer_vol_consumed_gallons  \\\n",
       "0                              101835000   \n",
       "1                               15476350   \n",
       "2                              140015325   \n",
       "3                               53429000   \n",
       "4                              651673303   \n",
       "\n",
       "   niaaa_legal_adult_per_capita_beer_consumed_gallons  \\\n",
       "0                                              29.60    \n",
       "1                                              31.28    \n",
       "2                                              31.14    \n",
       "3                                              25.65    \n",
       "4                                              24.77    \n",
       "\n",
       "   ba_craft_beer_produced_gallons  \\\n",
       "0                             NaN   \n",
       "1                             NaN   \n",
       "2                             NaN   \n",
       "3                             NaN   \n",
       "4                             NaN   \n",
       "\n",
       "   ba_legal_adult_per_capita_craft_beer_produced_gallons  \n",
       "0                                                NaN      \n",
       "1                                                NaN      \n",
       "2                                                NaN      \n",
       "3                                                NaN      \n",
       "4                                                NaN      \n",
       "\n",
       "[5 rows x 43 columns]"
      ]
     },
     "execution_count": 2,
     "metadata": {},
     "output_type": "execute_result"
    }
   ],
   "source": [
    "df = pd.read_csv('../Data/proj_4_feat_target_var_set.csv')\n",
    "df.head()"
   ]
  },
  {
   "cell_type": "code",
   "execution_count": 3,
   "metadata": {},
   "outputs": [
    {
     "data": {
      "text/plain": [
       "612"
      ]
     },
     "execution_count": 3,
     "metadata": {},
     "output_type": "execute_result"
    }
   ],
   "source": [
    "df.shape[0]"
   ]
  },
  {
   "cell_type": "code",
   "execution_count": 4,
   "metadata": {},
   "outputs": [],
   "source": [
    "df = df.dropna()"
   ]
  },
  {
   "cell_type": "code",
   "execution_count": 5,
   "metadata": {},
   "outputs": [
    {
     "data": {
      "text/plain": [
       "561"
      ]
     },
     "execution_count": 5,
     "metadata": {},
     "output_type": "execute_result"
    }
   ],
   "source": [
    "df.shape[0]"
   ]
  },
  {
   "cell_type": "code",
   "execution_count": 6,
   "metadata": {},
   "outputs": [
    {
     "data": {
      "text/plain": [
       "fips_code                                                  int64\n",
       "state_id                                                  object\n",
       "state_name                                                object\n",
       "high_tourist_border_sales                                  int64\n",
       "year                                                       int64\n",
       "niaaa_pop_21_plus                                          int64\n",
       "census_total_pop                                           int64\n",
       "census_total_pop_21_plus                                   int64\n",
       "census_percent_pop_21_plus                               float64\n",
       "census_percent_pop_18_24                                 float64\n",
       "census_percent_pop_25_34                                 float64\n",
       "census_percent_pop_35_44                                 float64\n",
       "census_percent_pop_45_54                                 float64\n",
       "census_percent_pop_55_64                                 float64\n",
       "census_percent_pop_65_plus                               float64\n",
       "census_percent_pop_male                                  float64\n",
       "census_percent_pop_female                                float64\n",
       "census_percent_pop_married                               float64\n",
       "census_percent_pop_widowed                               float64\n",
       "census_percent_pop_divorced                              float64\n",
       "census_percent_pop_separated                             float64\n",
       "census_percent_pop_never_married                         float64\n",
       "ed_census_percent_pop_less_hs                            float64\n",
       "ed_census_percent_pop_only_hs                            float64\n",
       "ed_census_percent_pop_some_college_or_assoc              float64\n",
       "ed_percent_pop_college_grad_only                         float64\n",
       "ed_percent_pop_grad_prof_degree                          float64\n",
       "census_percent_employed                                  float64\n",
       "census_percent_unemployed                                float64\n",
       "census_percent_armed_forces_employment                   float64\n",
       "census_percent_not_in_labor_force                        float64\n",
       "brfss_drinking_culture_surrogate_metric_percent_binge    float64\n",
       "tpc_state_beer_tax_rates_dollar_gal                      float64\n",
       "bea_personal_income_dollars                              float64\n",
       "bea_disp_inc_dollars                                     float64\n",
       "bea_percapita_personal_income_dollars                      int64\n",
       "bea_percapita_disp_inc_dollars                             int64\n",
       "census_median_household_inc_dollars                        int64\n",
       "census_percent_pop_in_poverty_est                        float64\n",
       "niaaa_total_beer_vol_consumed_gallons                      int64\n",
       "niaaa_legal_adult_per_capita_beer_consumed_gallons       float64\n",
       "ba_craft_beer_produced_gallons                           float64\n",
       "ba_legal_adult_per_capita_craft_beer_produced_gallons    float64\n",
       "dtype: object"
      ]
     },
     "execution_count": 6,
     "metadata": {},
     "output_type": "execute_result"
    }
   ],
   "source": [
    "df.dtypes"
   ]
  },
  {
   "cell_type": "code",
   "execution_count": 7,
   "metadata": {},
   "outputs": [
    {
     "data": {
      "text/plain": [
       "(561, 41)"
      ]
     },
     "execution_count": 7,
     "metadata": {},
     "output_type": "execute_result"
    }
   ],
   "source": [
    "df = df.drop(columns=['state_id', 'state_name'])\n",
    "df.shape"
   ]
  },
  {
   "cell_type": "code",
   "execution_count": 9,
   "metadata": {},
   "outputs": [],
   "source": [
    "df.to_csv('../Data/training_data.csv')"
   ]
  }
 ],
 "metadata": {
  "kernelspec": {
   "display_name": "dev",
   "language": "python",
   "name": "python3"
  },
  "language_info": {
   "codemirror_mode": {
    "name": "ipython",
    "version": 3
   },
   "file_extension": ".py",
   "mimetype": "text/x-python",
   "name": "python",
   "nbconvert_exporter": "python",
   "pygments_lexer": "ipython3",
   "version": "3.10.13"
  }
 },
 "nbformat": 4,
 "nbformat_minor": 2
}
