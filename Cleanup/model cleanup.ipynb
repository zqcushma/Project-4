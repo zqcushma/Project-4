{
 "cells": [
  {
   "cell_type": "code",
   "execution_count": 1,
   "metadata": {},
   "outputs": [],
   "source": [
    "import pandas as pd"
   ]
  },
  {
   "cell_type": "code",
   "execution_count": 2,
   "metadata": {},
   "outputs": [
    {
     "data": {
      "text/html": [
       "<div>\n",
       "<style scoped>\n",
       "    .dataframe tbody tr th:only-of-type {\n",
       "        vertical-align: middle;\n",
       "    }\n",
       "\n",
       "    .dataframe tbody tr th {\n",
       "        vertical-align: top;\n",
       "    }\n",
       "\n",
       "    .dataframe thead th {\n",
       "        text-align: right;\n",
       "    }\n",
       "</style>\n",
       "<table border=\"1\" class=\"dataframe\">\n",
       "  <thead>\n",
       "    <tr style=\"text-align: right;\">\n",
       "      <th></th>\n",
       "      <th>fips_code</th>\n",
       "      <th>state_id</th>\n",
       "      <th>state_name</th>\n",
       "      <th>year</th>\n",
       "      <th>niaaa_pop_21_plus</th>\n",
       "      <th>census_total_pop</th>\n",
       "      <th>census_percent_pop_21_plus</th>\n",
       "      <th>census_percent_pop_18_24</th>\n",
       "      <th>census_percent_pop_25_34</th>\n",
       "      <th>census_percent_pop_35_44</th>\n",
       "      <th>...</th>\n",
       "      <th>tpc_state_beer_tax_rates_dollar_gal</th>\n",
       "      <th>bea_personal_income_dollars</th>\n",
       "      <th>bea_disp_inc_dollars</th>\n",
       "      <th>bea_percapita_personal_income_dollars</th>\n",
       "      <th>bea_percapita_disp_inc_dollars</th>\n",
       "      <th>census_median_household_inc_dollars</th>\n",
       "      <th>niaaa_total_beer_vol_consumed_gallons</th>\n",
       "      <th>niaaa_legal_adult_per_capita_beer_consumed_gallons</th>\n",
       "      <th>ba_craft_beer_produced_gallons</th>\n",
       "      <th>ba_legal_adult_per_capita_craft_beer_produced_gallons</th>\n",
       "    </tr>\n",
       "  </thead>\n",
       "  <tbody>\n",
       "    <tr>\n",
       "      <th>0</th>\n",
       "      <td>1</td>\n",
       "      <td>AL</td>\n",
       "      <td>Alabama</td>\n",
       "      <td>2010</td>\n",
       "      <td>3439923</td>\n",
       "      <td>4785298</td>\n",
       "      <td>0.716</td>\n",
       "      <td>0.102</td>\n",
       "      <td>0.126</td>\n",
       "      <td>0.130</td>\n",
       "      <td>...</td>\n",
       "      <td>1.05</td>\n",
       "      <td>162068.8</td>\n",
       "      <td>148862.1</td>\n",
       "      <td>33849</td>\n",
       "      <td>31091</td>\n",
       "      <td>40474</td>\n",
       "      <td>101835000</td>\n",
       "      <td>29.60</td>\n",
       "      <td>NaN</td>\n",
       "      <td>NaN</td>\n",
       "    </tr>\n",
       "    <tr>\n",
       "      <th>1</th>\n",
       "      <td>2</td>\n",
       "      <td>AK</td>\n",
       "      <td>Alaska</td>\n",
       "      <td>2010</td>\n",
       "      <td>494781</td>\n",
       "      <td>713985</td>\n",
       "      <td>0.692</td>\n",
       "      <td>0.105</td>\n",
       "      <td>0.145</td>\n",
       "      <td>0.131</td>\n",
       "      <td>...</td>\n",
       "      <td>1.07</td>\n",
       "      <td>35374.3</td>\n",
       "      <td>32703.9</td>\n",
       "      <td>49543</td>\n",
       "      <td>45803</td>\n",
       "      <td>64576</td>\n",
       "      <td>15476350</td>\n",
       "      <td>31.28</td>\n",
       "      <td>NaN</td>\n",
       "      <td>NaN</td>\n",
       "    </tr>\n",
       "    <tr>\n",
       "      <th>2</th>\n",
       "      <td>4</td>\n",
       "      <td>AZ</td>\n",
       "      <td>Arizona</td>\n",
       "      <td>2010</td>\n",
       "      <td>4496526</td>\n",
       "      <td>6413737</td>\n",
       "      <td>0.702</td>\n",
       "      <td>0.099</td>\n",
       "      <td>0.134</td>\n",
       "      <td>0.128</td>\n",
       "      <td>...</td>\n",
       "      <td>0.16</td>\n",
       "      <td>216223.6</td>\n",
       "      <td>198815.2</td>\n",
       "      <td>33774</td>\n",
       "      <td>31055</td>\n",
       "      <td>46789</td>\n",
       "      <td>140015325</td>\n",
       "      <td>31.14</td>\n",
       "      <td>NaN</td>\n",
       "      <td>NaN</td>\n",
       "    </tr>\n",
       "    <tr>\n",
       "      <th>3</th>\n",
       "      <td>5</td>\n",
       "      <td>AR</td>\n",
       "      <td>Arkansas</td>\n",
       "      <td>2010</td>\n",
       "      <td>2082760</td>\n",
       "      <td>2921606</td>\n",
       "      <td>0.710</td>\n",
       "      <td>0.100</td>\n",
       "      <td>0.126</td>\n",
       "      <td>0.127</td>\n",
       "      <td>...</td>\n",
       "      <td>0.24</td>\n",
       "      <td>94127.0</td>\n",
       "      <td>86387.0</td>\n",
       "      <td>32218</td>\n",
       "      <td>29569</td>\n",
       "      <td>38307</td>\n",
       "      <td>53429000</td>\n",
       "      <td>25.65</td>\n",
       "      <td>NaN</td>\n",
       "      <td>NaN</td>\n",
       "    </tr>\n",
       "    <tr>\n",
       "      <th>4</th>\n",
       "      <td>6</td>\n",
       "      <td>CA</td>\n",
       "      <td>California</td>\n",
       "      <td>2010</td>\n",
       "      <td>26311028</td>\n",
       "      <td>37349363</td>\n",
       "      <td>0.704</td>\n",
       "      <td>0.106</td>\n",
       "      <td>0.143</td>\n",
       "      <td>0.139</td>\n",
       "      <td>...</td>\n",
       "      <td>0.20</td>\n",
       "      <td>1609997.5</td>\n",
       "      <td>1431825.6</td>\n",
       "      <td>43138</td>\n",
       "      <td>38364</td>\n",
       "      <td>57708</td>\n",
       "      <td>651673303</td>\n",
       "      <td>24.77</td>\n",
       "      <td>NaN</td>\n",
       "      <td>NaN</td>\n",
       "    </tr>\n",
       "  </tbody>\n",
       "</table>\n",
       "<p>5 rows × 40 columns</p>\n",
       "</div>"
      ],
      "text/plain": [
       "   fips_code state_id  state_name  year  niaaa_pop_21_plus  census_total_pop  \\\n",
       "0          1       AL     Alabama  2010            3439923           4785298   \n",
       "1          2       AK      Alaska  2010             494781            713985   \n",
       "2          4       AZ     Arizona  2010            4496526           6413737   \n",
       "3          5       AR    Arkansas  2010            2082760           2921606   \n",
       "4          6       CA  California  2010           26311028          37349363   \n",
       "\n",
       "   census_percent_pop_21_plus  census_percent_pop_18_24  \\\n",
       "0                       0.716                     0.102   \n",
       "1                       0.692                     0.105   \n",
       "2                       0.702                     0.099   \n",
       "3                       0.710                     0.100   \n",
       "4                       0.704                     0.106   \n",
       "\n",
       "   census_percent_pop_25_34  census_percent_pop_35_44  ...  \\\n",
       "0                     0.126                     0.130  ...   \n",
       "1                     0.145                     0.131  ...   \n",
       "2                     0.134                     0.128  ...   \n",
       "3                     0.126                     0.127  ...   \n",
       "4                     0.143                     0.139  ...   \n",
       "\n",
       "   tpc_state_beer_tax_rates_dollar_gal  bea_personal_income_dollars  \\\n",
       "0                                 1.05                     162068.8   \n",
       "1                                 1.07                      35374.3   \n",
       "2                                 0.16                     216223.6   \n",
       "3                                 0.24                      94127.0   \n",
       "4                                 0.20                    1609997.5   \n",
       "\n",
       "   bea_disp_inc_dollars  bea_percapita_personal_income_dollars  \\\n",
       "0              148862.1                                  33849   \n",
       "1               32703.9                                  49543   \n",
       "2              198815.2                                  33774   \n",
       "3               86387.0                                  32218   \n",
       "4             1431825.6                                  43138   \n",
       "\n",
       "   bea_percapita_disp_inc_dollars  census_median_household_inc_dollars  \\\n",
       "0                           31091                                40474   \n",
       "1                           45803                                64576   \n",
       "2                           31055                                46789   \n",
       "3                           29569                                38307   \n",
       "4                           38364                                57708   \n",
       "\n",
       "   niaaa_total_beer_vol_consumed_gallons  \\\n",
       "0                              101835000   \n",
       "1                               15476350   \n",
       "2                              140015325   \n",
       "3                               53429000   \n",
       "4                              651673303   \n",
       "\n",
       "   niaaa_legal_adult_per_capita_beer_consumed_gallons  \\\n",
       "0                                              29.60    \n",
       "1                                              31.28    \n",
       "2                                              31.14    \n",
       "3                                              25.65    \n",
       "4                                              24.77    \n",
       "\n",
       "   ba_craft_beer_produced_gallons  \\\n",
       "0                             NaN   \n",
       "1                             NaN   \n",
       "2                             NaN   \n",
       "3                             NaN   \n",
       "4                             NaN   \n",
       "\n",
       "   ba_legal_adult_per_capita_craft_beer_produced_gallons  \n",
       "0                                                NaN      \n",
       "1                                                NaN      \n",
       "2                                                NaN      \n",
       "3                                                NaN      \n",
       "4                                                NaN      \n",
       "\n",
       "[5 rows x 40 columns]"
      ]
     },
     "execution_count": 2,
     "metadata": {},
     "output_type": "execute_result"
    }
   ],
   "source": [
    "df = pd.read_csv('../Data/proj_4_feat_target_var_set.csv')\n",
    "df.head()"
   ]
  },
  {
   "cell_type": "code",
   "execution_count": 4,
   "metadata": {},
   "outputs": [
    {
     "data": {
      "text/plain": [
       "612"
      ]
     },
     "execution_count": 4,
     "metadata": {},
     "output_type": "execute_result"
    }
   ],
   "source": [
    "df.shape[0]"
   ]
  },
  {
   "cell_type": "code",
   "execution_count": 5,
   "metadata": {},
   "outputs": [],
   "source": [
    "df = df.dropna()"
   ]
  },
  {
   "cell_type": "code",
   "execution_count": 6,
   "metadata": {},
   "outputs": [
    {
     "data": {
      "text/plain": [
       "510"
      ]
     },
     "execution_count": 6,
     "metadata": {},
     "output_type": "execute_result"
    }
   ],
   "source": [
    "df.shape[0]"
   ]
  },
  {
   "cell_type": "code",
   "execution_count": 7,
   "metadata": {},
   "outputs": [
    {
     "data": {
      "text/plain": [
       "fips_code                                                  int64\n",
       "state_id                                                  object\n",
       "state_name                                                object\n",
       "year                                                       int64\n",
       "niaaa_pop_21_plus                                          int64\n",
       "census_total_pop                                           int64\n",
       "census_percent_pop_21_plus                               float64\n",
       "census_percent_pop_18_24                                 float64\n",
       "census_percent_pop_25_34                                 float64\n",
       "census_percent_pop_35_44                                 float64\n",
       "census_percent_pop_45_54                                 float64\n",
       "census_percent_pop_55_64                                 float64\n",
       "census_percent_pop_65_plus                               float64\n",
       "census_percent_pop_male                                  float64\n",
       "census_percent_pop_female                                float64\n",
       "census_percent_pop_married                               float64\n",
       "census_percent_pop_widowed                               float64\n",
       "census_percent_pop_divorced                              float64\n",
       "census_percent_pop_separated                             float64\n",
       "census_percent_pop_never_married                         float64\n",
       "ed_census_percent_pop_less_hs                            float64\n",
       "ed_census_percent_pop_only_hs                            float64\n",
       "ed_census_percent_pop_some_college_or_assoc              float64\n",
       "ed_percent_pop_college_grad_only                         float64\n",
       "ed_percent_pop_grad_prof_degree                          float64\n",
       "census_percent_employed                                  float64\n",
       "census_percent_unemployed                                float64\n",
       "census_percent_armed_forces_employment                   float64\n",
       "census_percent_not_in_labor_force                        float64\n",
       "brfss_drinking_culture_surrogate_metric_percent_binge    float64\n",
       "tpc_state_beer_tax_rates_dollar_gal                      float64\n",
       "bea_personal_income_dollars                              float64\n",
       "bea_disp_inc_dollars                                     float64\n",
       "bea_percapita_personal_income_dollars                      int64\n",
       "bea_percapita_disp_inc_dollars                             int64\n",
       "census_median_household_inc_dollars                        int64\n",
       "niaaa_total_beer_vol_consumed_gallons                      int64\n",
       "niaaa_legal_adult_per_capita_beer_consumed_gallons       float64\n",
       "ba_craft_beer_produced_gallons                           float64\n",
       "ba_legal_adult_per_capita_craft_beer_produced_gallons    float64\n",
       "dtype: object"
      ]
     },
     "execution_count": 7,
     "metadata": {},
     "output_type": "execute_result"
    }
   ],
   "source": [
    "df.dtypes"
   ]
  },
  {
   "cell_type": "code",
   "execution_count": 8,
   "metadata": {},
   "outputs": [
    {
     "data": {
      "text/plain": [
       "(510, 38)"
      ]
     },
     "execution_count": 8,
     "metadata": {},
     "output_type": "execute_result"
    }
   ],
   "source": [
    "df = df.drop(columns=['state_id', 'state_name'])\n",
    "df.shape"
   ]
  },
  {
   "cell_type": "code",
   "execution_count": 9,
   "metadata": {},
   "outputs": [],
   "source": [
    "df.to_csv('Data/training_data.csv')"
   ]
  }
 ],
 "metadata": {
  "kernelspec": {
   "display_name": "dev",
   "language": "python",
   "name": "python3"
  },
  "language_info": {
   "codemirror_mode": {
    "name": "ipython",
    "version": 3
   },
   "file_extension": ".py",
   "mimetype": "text/x-python",
   "name": "python",
   "nbconvert_exporter": "python",
   "pygments_lexer": "ipython3",
   "version": "3.10.13"
  }
 },
 "nbformat": 4,
 "nbformat_minor": 2
}
